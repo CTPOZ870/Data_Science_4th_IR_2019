{
 "cells": [
  {
   "cell_type": "code",
   "execution_count": 1,
   "metadata": {},
   "outputs": [
    {
     "name": "stdout",
     "output_type": "stream",
     "text": [
      "패스워드를 입력하세요: 1234\n",
      "환영합니다. 어서오세요\n"
     ]
    }
   ],
   "source": [
    "password = 1234\n",
    "\n",
    "pw = int(input('패스워드를 입력하세요: '))\n",
    "\n",
    "if pw == password:\n",
    "    print('환영합니다. 어서오세요')\n",
    "else:\n",
    "    print('죄송합니다. 비밀번호가 틀립니다.')"
   ]
  },
  {
   "cell_type": "code",
   "execution_count": 3,
   "metadata": {},
   "outputs": [
    {
     "name": "stdout",
     "output_type": "stream",
     "text": [
      "Please enter an integer111\n",
      "More\n"
     ]
    }
   ],
   "source": [
    "x = int(input(\"Please enter an integer\"))\n",
    "\n",
    "if x < 0:\n",
    "    x = 0\n",
    "    print('Negative changed to zero')\n",
    "elif x == 0:\n",
    "    print('Zero')\n",
    "elif x == 1:\n",
    "    print('Single')\n",
    "else:\n",
    "    print('More')"
   ]
  },
  {
   "cell_type": "code",
   "execution_count": 6,
   "metadata": {},
   "outputs": [
    {
     "name": "stdout",
     "output_type": "stream",
     "text": [
      "--->29\n",
      "--->3\n",
      "29 is greater than 3\n"
     ]
    }
   ],
   "source": [
    "x = int(input('--->'))\n",
    "y = int(input('--->'))\n",
    "\n",
    "if x == y:\n",
    "    print(\"%d is equal to %d\"%(x,y))\n",
    "if x < y:\n",
    "    print(\"%d is less than %d\"%(x,y))\n",
    "if x > y:\n",
    "    print(\"%d is greater than %d\"%(x, y))"
   ]
  },
  {
   "cell_type": "code",
   "execution_count": 8,
   "metadata": {},
   "outputs": [
    {
     "name": "stdout",
     "output_type": "stream",
     "text": [
      "--->999\n",
      "score = 999, grade = A\n"
     ]
    }
   ],
   "source": [
    "score = int(input('--->'))\n",
    "if 90 <= score :\n",
    "    grade = 'A'\n",
    "if 80 <= score < 90:\n",
    "    grade = 'B'\n",
    "if 70 <= score < 80:\n",
    "    grade = 'C'\n",
    "if 60 <= score < 70:\n",
    "    grade = 'D'\n",
    "if score < 60:\n",
    "    grade = 'F'\n",
    "print(\"score = %d, grade = %s\" %(score, grade))"
   ]
  },
  {
   "cell_type": "code",
   "execution_count": 14,
   "metadata": {},
   "outputs": [
    {
     "name": "stdout",
     "output_type": "stream",
     "text": [
      "----> 55\n",
      "55 is an odd number. \n"
     ]
    }
   ],
   "source": [
    "x = int(input('----> '))\n",
    "if x % 2: # 또는 x % 2 == 1\n",
    "    print(\"%d is an odd number. \"%x)\n",
    "else:\n",
    "    print(\"%d is an even number.\"%x)"
   ]
  },
  {
   "cell_type": "code",
   "execution_count": 17,
   "metadata": {},
   "outputs": [
    {
     "name": "stdout",
     "output_type": "stream",
     "text": [
      "---> 23\n",
      "---> 19\n",
      "Max = 23, Min = 19\n"
     ]
    }
   ],
   "source": [
    "x = int(input('---> '))\n",
    "y = int(input('---> '))\n",
    "\n",
    "if x > y:\n",
    "    Max = x\n",
    "    Min = y\n",
    "else:\n",
    "    Max = y\n",
    "    Min = x\n",
    "print(\"Max = %d, Min = %d\"%(Max, Min))"
   ]
  },
  {
   "cell_type": "code",
   "execution_count": 21,
   "metadata": {},
   "outputs": [
    {
     "name": "stdout",
     "output_type": "stream",
     "text": [
      "이름을 입력하세요Sams\n",
      "2111\n"
     ]
    }
   ],
   "source": [
    "names = {'Mary':10999, 'Sams':2111, 'Aimy':9778, 'Tom':20245,\n",
    "        'Michale':27115, 'Bob':5887, \"Kelly\":7855}\n",
    "\n",
    "nam = input(\"이름을 입력하세요\")\n",
    "\n",
    "if nam in names:\n",
    "    print(names[nam])\n",
    "else:\n",
    "    names[nam] = 11111\n",
    "    print(names)\n",
    "    "
   ]
  },
  {
   "cell_type": "code",
   "execution_count": null,
   "metadata": {},
   "outputs": [],
   "source": []
  }
 ],
 "metadata": {
  "kernelspec": {
   "display_name": "Python 3",
   "language": "python",
   "name": "python3"
  },
  "language_info": {
   "codemirror_mode": {
    "name": "ipython",
    "version": 3
   },
   "file_extension": ".py",
   "mimetype": "text/x-python",
   "name": "python",
   "nbconvert_exporter": "python",
   "pygments_lexer": "ipython3",
   "version": "3.7.3"
  }
 },
 "nbformat": 4,
 "nbformat_minor": 2
}
