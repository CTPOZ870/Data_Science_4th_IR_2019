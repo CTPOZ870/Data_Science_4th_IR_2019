{
 "cells": [
  {
   "cell_type": "markdown",
   "metadata": {},
   "source": [
    "## For_Sample_Code"
   ]
  },
  {
   "cell_type": "code",
   "execution_count": 2,
   "metadata": {},
   "outputs": [
    {
     "name": "stdout",
     "output_type": "stream",
     "text": [
      "p\n",
      "y\n",
      "t\n",
      "h\n",
      "o\n",
      "n\n"
     ]
    }
   ],
   "source": [
    "for letter in 'python':\n",
    "    print(letter)"
   ]
  },
  {
   "cell_type": "code",
   "execution_count": 8,
   "metadata": {},
   "outputs": [
    {
     "name": "stdout",
     "output_type": "stream",
     "text": [
      "55\n"
     ]
    }
   ],
   "source": [
    "sum = 0\n",
    "for i in range(1, 11):\n",
    "    sum += i\n",
    "print(sum)"
   ]
  },
  {
   "cell_type": "code",
   "execution_count": 13,
   "metadata": {},
   "outputs": [
    {
     "name": "stdout",
     "output_type": "stream",
     "text": [
      "['o', 'u', 'a', 'i', 'o', 'a', 'i', 'i']\n"
     ]
    }
   ],
   "source": [
    "count = 0\n",
    "letters = []\n",
    "for letter in 'computational thinking':\n",
    "    if letter in 'aeiou':\n",
    "        letters.append(letter)\n",
    "        \n",
    "print(letters)"
   ]
  },
  {
   "cell_type": "markdown",
   "metadata": {},
   "source": [
    "##### []로 리스트주면 출력되는 부분 확인"
   ]
  },
  {
   "cell_type": "code",
   "execution_count": 18,
   "metadata": {
    "scrolled": true
   },
   "outputs": [
    {
     "data": {
      "text/plain": [
       "[0, 1, 2, 3, 4, 5]"
      ]
     },
     "execution_count": 18,
     "metadata": {},
     "output_type": "execute_result"
    }
   ],
   "source": [
    "# print([i for i in range(6)])\n",
    "[i for i in range(6)]"
   ]
  },
  {
   "cell_type": "code",
   "execution_count": 20,
   "metadata": {},
   "outputs": [
    {
     "name": "stdout",
     "output_type": "stream",
     "text": [
      "[(0, 5), (0, 6), (0, 7), (0, 8), (0, 9), (0, 10), (1, 5), (1, 6), (1, 7), (1, 8), (1, 9), (1, 10), (2, 5), (2, 6), (2, 7), (2, 8), (2, 9), (2, 10), (3, 5), (3, 6), (3, 7), (3, 8), (3, 9), (3, 10), (4, 5), (4, 6), (4, 7), (4, 8), (4, 9), (4, 10)]\n"
     ]
    }
   ],
   "source": [
    "print([ (x,y) for x in range(5) for y in range(5,11)])\n",
    "# [ (x,y) for x in range(5) for y in range(5,11)]"
   ]
  },
  {
   "cell_type": "code",
   "execution_count": 22,
   "metadata": {},
   "outputs": [
    {
     "data": {
      "text/plain": [
       "[(0, 5),\n",
       " (0, 6),\n",
       " (0, 7),\n",
       " (0, 8),\n",
       " (0, 9),\n",
       " (0, 10),\n",
       " (1, 5),\n",
       " (1, 6),\n",
       " (1, 7),\n",
       " (1, 8),\n",
       " (1, 9),\n",
       " (1, 10),\n",
       " (2, 5),\n",
       " (2, 6),\n",
       " (2, 7),\n",
       " (2, 8),\n",
       " (2, 9),\n",
       " (2, 10),\n",
       " (3, 5),\n",
       " (3, 6),\n",
       " (3, 7),\n",
       " (3, 8),\n",
       " (3, 9),\n",
       " (3, 10),\n",
       " (4, 5),\n",
       " (4, 6),\n",
       " (4, 7),\n",
       " (4, 8),\n",
       " (4, 9),\n",
       " (4, 10)]"
      ]
     },
     "execution_count": 22,
     "metadata": {},
     "output_type": "execute_result"
    }
   ],
   "source": [
    "# print 랑 나오는 출력 확인\n",
    "[ (x,y) for x in range(5) for y in range(5,11)]"
   ]
  },
  {
   "cell_type": "code",
   "execution_count": 23,
   "metadata": {},
   "outputs": [
    {
     "data": {
      "text/plain": [
       "[0, 2, 4, 6, 8, 10]"
      ]
     },
     "execution_count": 23,
     "metadata": {},
     "output_type": "execute_result"
    }
   ],
   "source": [
    "# range(11)이면 10까지\n",
    "[x for x in range(11) if x % 2 == 0]"
   ]
  },
  {
   "cell_type": "code",
   "execution_count": 25,
   "metadata": {},
   "outputs": [
    {
     "data": {
      "text/plain": [
       "[('BE', 'be', 2),\n",
       " ('AS', 'as', 2),\n",
       " ('PROUD', 'proud', 5),\n",
       " ('OF', 'of', 2),\n",
       " ('SOGANG', 'sogang', 6),\n",
       " ('AS', 'as', 2),\n",
       " ('SOGANG', 'sogang', 6),\n",
       " ('IS', 'is', 2),\n",
       " ('PROUD', 'proud', 5),\n",
       " ('OF', 'of', 2),\n",
       " ('YOU', 'you', 3)]"
      ]
     },
     "execution_count": 25,
     "metadata": {},
     "output_type": "execute_result"
    }
   ],
   "source": [
    "phrase = 'Be as proud of Sogang as Sogang is proud of you'\n",
    "\n",
    "[ (x.upper(), x.lower(), len(x)) for x in phrase.split()]"
   ]
  },
  {
   "cell_type": "code",
   "execution_count": 27,
   "metadata": {},
   "outputs": [
    {
     "name": "stdout",
     "output_type": "stream",
     "text": [
      "[5, 6, 7]\n"
     ]
    }
   ],
   "source": [
    "sum = []\n",
    "for i in range(10):\n",
    "    if i < 5:\n",
    "        continue\n",
    "    elif i > 7:\n",
    "        break\n",
    "    else:\n",
    "        sum.append(i)\n",
    "\n",
    "print(sum)\n"
   ]
  },
  {
   "cell_type": "code",
   "execution_count": 28,
   "metadata": {},
   "outputs": [
    {
     "name": "stdout",
     "output_type": "stream",
     "text": [
      "55\n"
     ]
    }
   ],
   "source": [
    "i = 1\n",
    "sum = 0\n",
    "while i <=10:\n",
    "    sum += i\n",
    "    i += 1\n",
    "print(sum)"
   ]
  },
  {
   "cell_type": "code",
   "execution_count": 29,
   "metadata": {},
   "outputs": [
    {
     "name": "stdout",
     "output_type": "stream",
     "text": [
      "30\n"
     ]
    }
   ],
   "source": [
    "i = 1\n",
    "sum = 0\n",
    "while i <= 10:\n",
    "    if i % 2 == 0:\n",
    "        sum += i\n",
    "    i += 1\n",
    "print(sum)"
   ]
  },
  {
   "cell_type": "code",
   "execution_count": 30,
   "metadata": {},
   "outputs": [
    {
     "name": "stdout",
     "output_type": "stream",
     "text": [
      "15\n"
     ]
    }
   ],
   "source": [
    "i = 1\n",
    "sum = 0\n",
    "while i<= 10:\n",
    "    i += 1\n",
    "    if i <= 3:\n",
    "        continue\n",
    "    elif i >= 7:\n",
    "        break\n",
    "    else:\n",
    "        sum += i\n",
    "        \n",
    "print(sum)\n"
   ]
  },
  {
   "cell_type": "code",
   "execution_count": 31,
   "metadata": {},
   "outputs": [
    {
     "name": "stdout",
     "output_type": "stream",
     "text": [
      "27\n"
     ]
    }
   ],
   "source": [
    "i = 1\n",
    "sum = 0\n",
    "while i < 10:\n",
    "    i += 1\n",
    "    if i <= 7:\n",
    "        continue\n",
    "    else:\n",
    "        sum += i\n",
    "\n",
    "print(sum)"
   ]
  },
  {
   "cell_type": "markdown",
   "metadata": {},
   "source": [
    "##### 아래 차이 확인"
   ]
  },
  {
   "cell_type": "code",
   "execution_count": 38,
   "metadata": {},
   "outputs": [
    {
     "name": "stdout",
     "output_type": "stream",
     "text": [
      "27\n"
     ]
    }
   ],
   "source": [
    "i = 1\n",
    "sum = 0\n",
    "while i < 10:\n",
    "    i += 1\n",
    "    if i <= 7:\n",
    "        continue\n",
    "    else:\n",
    "        sum += i\n",
    "\n",
    "print(sum)"
   ]
  },
  {
   "cell_type": "code",
   "execution_count": 40,
   "metadata": {},
   "outputs": [
    {
     "name": "stdout",
     "output_type": "stream",
     "text": [
      "28\n"
     ]
    }
   ],
   "source": [
    "i = 1\n",
    "sum = 0\n",
    "\n",
    "while i <= 7:\n",
    "\n",
    "    sum += i\n",
    "    i += 1\n",
    "    \n",
    "print(sum)"
   ]
  },
  {
   "cell_type": "code",
   "execution_count": null,
   "metadata": {},
   "outputs": [],
   "source": []
  },
  {
   "cell_type": "code",
   "execution_count": 41,
   "metadata": {},
   "outputs": [
    {
     "name": "stdout",
     "output_type": "stream",
     "text": [
      "Enter grade: 10\n",
      "Enter grade: 20\n",
      "Enter grade: 30\n",
      "Enter grade: 40\n",
      "Enter grade: 50\n",
      "Class average is  30.0\n"
     ]
    }
   ],
   "source": [
    "total = 0\n",
    "count = 0\n",
    "\n",
    "while count < 5:\n",
    "    grade = int(input(\"Enter grade: \"))\n",
    "    total = total + grade\n",
    "    count += 1\n",
    "    \n",
    "avrg = float(total) / 5 # 하드코딩 ? 의미\n",
    "\n",
    "# 학급평균 출력\n",
    "print(\"Class average is \", avrg)"
   ]
  },
  {
   "cell_type": "code",
   "execution_count": 44,
   "metadata": {},
   "outputs": [
    {
     "name": "stdout",
     "output_type": "stream",
     "text": [
      "Enter number : 10\n",
      "10! is 3628800\n"
     ]
    }
   ],
   "source": [
    "# 팩토리얼\n",
    "\n",
    "num = int(input(\"Enter number : \"))\n",
    "result = 1\n",
    "\n",
    "cnt = num\n",
    "\n",
    "while cnt > 1:\n",
    "    result *= cnt\n",
    "    cnt -= 1\n",
    "\n",
    "print(str(num) + \"! is \" + str(result))"
   ]
  },
  {
   "cell_type": "code",
   "execution_count": 46,
   "metadata": {},
   "outputs": [
    {
     "name": "stdout",
     "output_type": "stream",
     "text": [
      "1\n",
      "2\n",
      "3\n"
     ]
    }
   ],
   "source": [
    "scope = [1, 2, 3, 4, 5]\n",
    "\n",
    "for x in scope:\n",
    "    print(x)\n",
    "    if x < 3: # < 3 이여서 0,1,2로 세어 1,2,3 출력 ?\n",
    "        continue \n",
    "    else:\n",
    "        break\n"
   ]
  },
  {
   "cell_type": "code",
   "execution_count": 47,
   "metadata": {},
   "outputs": [
    {
     "name": "stdout",
     "output_type": "stream",
     "text": [
      "숫자를 입력하세요 -> : 11\n",
      "n = 11 : nSum = 66\n"
     ]
    }
   ],
   "source": [
    "n = int(input('숫자를 입력하세요 -> : '))\n",
    "\n",
    "nSum = 0\n",
    "\n",
    "for i in range(1, n+1): # nSum = sum(range(1, n+1))\n",
    "    nSum += i\n",
    "    \n",
    "print(\"n = %d : nSum = %d\" %(n, nSum))"
   ]
  },
  {
   "cell_type": "markdown",
   "metadata": {},
   "source": [
    "##### 아래해석만 간단히 다시 확인"
   ]
  },
  {
   "cell_type": "code",
   "execution_count": 49,
   "metadata": {},
   "outputs": [
    {
     "name": "stdout",
     "output_type": "stream",
     "text": [
      "숫자를 입력 : 7\n",
      "n = 7 : oddSum = 16, evenSum = 12\n"
     ]
    }
   ],
   "source": [
    "n = int(input('숫자를 입력 : '))\n",
    "\n",
    "oddSum = evenSum = 0\n",
    "\n",
    "for i in range(1, n+1):\n",
    "    if i%2: # i%2 == 1\n",
    "        oddSum += i\n",
    "    else:\n",
    "        evenSum += i\n",
    "print(\"n = %d : oddSum = %d, evenSum = %d\" % (n, oddSum, evenSum))"
   ]
  },
  {
   "cell_type": "code",
   "execution_count": 52,
   "metadata": {},
   "outputs": [
    {
     "name": "stdout",
     "output_type": "stream",
     "text": [
      "Min = 60 , nMax = 100\n"
     ]
    }
   ],
   "source": [
    "L = [ 70, 100, 80, 60, 90]\n",
    "\n",
    "nMin = nMax = L[0]\n",
    "\n",
    "# nMIn = min(L)\n",
    "# nMax = max(L)\n",
    "\n",
    "for n in L:\n",
    "    if nMin > n:\n",
    "        nMin = n\n",
    "    if nMax < n:\n",
    "        nMax = n\n",
    "\n",
    "print(\"Min = %d , nMax = %d\" %(nMin, nMax))"
   ]
  },
  {
   "cell_type": "markdown",
   "metadata": {},
   "source": [
    "##### 아래 코드 해석 다시확인"
   ]
  },
  {
   "cell_type": "code",
   "execution_count": 56,
   "metadata": {},
   "outputs": [
    {
     "name": "stdout",
     "output_type": "stream",
     "text": [
      " 1x1=  1,  1x2=  2,  1x3=  3,  1x4=  4,  1x5=  5,  1x6=  6,  1x7=  7,  1x8=  8,  1x9=  9, \n",
      " 2x1=  2,  2x2=  4,  2x3=  6,  2x4=  8,  2x5= 10,  2x6= 12,  2x7= 14,  2x8= 16,  2x9= 18, \n",
      " 3x1=  3,  3x2=  6,  3x3=  9,  3x4= 12,  3x5= 15,  3x6= 18,  3x7= 21,  3x8= 24,  3x9= 27, \n",
      " 4x1=  4,  4x2=  8,  4x3= 12,  4x4= 16,  4x5= 20,  4x6= 24,  4x7= 28,  4x8= 32,  4x9= 36, \n",
      " 5x1=  5,  5x2= 10,  5x3= 15,  5x4= 20,  5x5= 25,  5x6= 30,  5x7= 35,  5x8= 40,  5x9= 45, \n",
      " 6x1=  6,  6x2= 12,  6x3= 18,  6x4= 24,  6x5= 30,  6x6= 36,  6x7= 42,  6x8= 48,  6x9= 54, \n",
      " 7x1=  7,  7x2= 14,  7x3= 21,  7x4= 28,  7x5= 35,  7x6= 42,  7x7= 49,  7x8= 56,  7x9= 63, \n",
      " 8x1=  8,  8x2= 16,  8x3= 24,  8x4= 32,  8x5= 40,  8x6= 48,  8x7= 56,  8x8= 64,  8x9= 72, \n",
      " 9x1=  9,  9x2= 18,  9x3= 27,  9x4= 36,  9x5= 45,  9x6= 54,  9x7= 63,  9x8= 72,  9x9= 81, \n"
     ]
    }
   ],
   "source": [
    "for i in range(1, 10):\n",
    "    for j in range(1, 10):\n",
    "        print(\" {0}x{1}={2:>3}, \".format(i, j, i*j), end = '')\n",
    "    print() # new line"
   ]
  },
  {
   "cell_type": "code",
   "execution_count": 57,
   "metadata": {},
   "outputs": [
    {
     "name": "stdout",
     "output_type": "stream",
     "text": [
      "\n",
      "1x1=  1   2x1=  2   3x1=  3   4x1=  4   5x1=  5   6x1=  6   7x1=  7   8x1=  8   9x1=  9   \n",
      "1x2=  2   2x2=  4   3x2=  6   4x2=  8   5x2= 10   6x2= 12   7x2= 14   8x2= 16   9x2= 18   \n",
      "1x3=  3   2x3=  6   3x3=  9   4x3= 12   5x3= 15   6x3= 18   7x3= 21   8x3= 24   9x3= 27   \n",
      "1x4=  4   2x4=  8   3x4= 12   4x4= 16   5x4= 20   6x4= 24   7x4= 28   8x4= 32   9x4= 36   \n",
      "1x5=  5   2x5= 10   3x5= 15   4x5= 20   5x5= 25   6x5= 30   7x5= 35   8x5= 40   9x5= 45   \n",
      "1x6=  6   2x6= 12   3x6= 18   4x6= 24   5x6= 30   6x6= 36   7x6= 42   8x6= 48   9x6= 54   \n",
      "1x7=  7   2x7= 14   3x7= 21   4x7= 28   5x7= 35   6x7= 42   7x7= 49   8x7= 56   9x7= 63   \n",
      "1x8=  8   2x8= 16   3x8= 24   4x8= 32   5x8= 40   6x8= 48   7x8= 56   8x8= 64   9x8= 72   \n",
      "1x9=  9   2x9= 18   3x9= 27   4x9= 36   5x9= 45   6x9= 54   7x9= 63   8x9= 72   9x9= 81   "
     ]
    }
   ],
   "source": [
    "for i in range(1, 10):\n",
    "    print()\n",
    "    for j in range(1, 10):\n",
    "        print('{}x{}={:>3}'.format(j, i, i*j), end='   ')"
   ]
  },
  {
   "cell_type": "markdown",
   "metadata": {},
   "source": [
    "##### 소수 확인 다시"
   ]
  },
  {
   "cell_type": "code",
   "execution_count": 61,
   "metadata": {},
   "outputs": [
    {
     "name": "stdout",
     "output_type": "stream",
     "text": [
      "양의 정수 --->  23\n",
      "23은 소수가 아니다.\n"
     ]
    }
   ],
   "source": [
    "n = int(input('양의 정수 --->  '))\n",
    "i = 2\n",
    "\n",
    "while i < n:\n",
    "    if not n % i:\n",
    "        bPrime = False\n",
    "        break\n",
    "    i += 1\n",
    "else:\n",
    "    bPriem = True\n",
    "    \n",
    "if bPrime:\n",
    "    print(\"{0}은 소수이다.\".format(n))\n",
    "else:\n",
    "    print(\"{0}은 소수가 아니다.\".format(n))"
   ]
  },
  {
   "cell_type": "code",
   "execution_count": 64,
   "metadata": {},
   "outputs": [
    {
     "name": "stdout",
     "output_type": "stream",
     "text": [
      "숫자 입력: 31\n",
      "소수 입니다\n",
      "소수 입니다\n",
      "소수 입니다\n",
      "소수 입니다\n",
      "소수 입니다\n",
      "소수 입니다\n",
      "소수 입니다\n",
      "소수 입니다\n",
      "소수 입니다\n",
      "소수 입니다\n",
      "소수 입니다\n",
      "소수 입니다\n",
      "소수 입니다\n",
      "소수 입니다\n",
      "소수 입니다\n",
      "소수 입니다\n",
      "소수 입니다\n",
      "소수 입니다\n",
      "소수 입니다\n",
      "소수 입니다\n",
      "소수 입니다\n",
      "소수 입니다\n",
      "소수 입니다\n",
      "소수 입니다\n",
      "소수 입니다\n",
      "소수 입니다\n",
      "소수 입니다\n",
      "소수 입니다\n",
      "소수 입니다\n"
     ]
    }
   ],
   "source": [
    "n = int(input('숫자 입력: ')) \n",
    "flag = 1\n",
    "\n",
    "if n != 1: \n",
    "    for i in range(2,n):\n",
    "        if n == 2:\n",
    "            break\n",
    "        if n%i == 0:\n",
    "            flag = 0\n",
    "            break\n",
    "        if flag == 1:\n",
    "            print(\"소수 입니다\")\n",
    "        elif flag == 0:\n",
    "            print(\"소수가 아닙니다\")\n",
    "        \n",
    "if n == 1:\n",
    "    print(\"소수가 아닙니다\")"
   ]
  },
  {
   "cell_type": "code",
   "execution_count": 65,
   "metadata": {},
   "outputs": [
    {
     "name": "stdout",
     "output_type": "stream",
     "text": [
      "\n",
      "\n",
      "*\n",
      "\n",
      "**\n",
      "\n",
      "***\n",
      "\n",
      "****\n",
      "\n",
      "*****\n",
      "\n",
      "******\n",
      "\n",
      "*******\n",
      "\n",
      "********\n",
      "\n",
      "*********\n",
      "\n"
     ]
    }
   ],
   "source": [
    "for i in range(10):\n",
    "    print('*'*i)\n",
    "    print()"
   ]
  },
  {
   "cell_type": "markdown",
   "metadata": {},
   "source": [
    "##### 1칸 띄고 * 나오는거 물어보기"
   ]
  },
  {
   "cell_type": "code",
   "execution_count": 68,
   "metadata": {
    "scrolled": true
   },
   "outputs": [
    {
     "name": "stdout",
     "output_type": "stream",
     "text": [
      " **********\n",
      "\n",
      "a *********\n",
      "\n",
      "aa ********\n",
      "\n",
      "aaa *******\n",
      "\n",
      "aaaa ******\n",
      "\n",
      "aaaaa *****\n",
      "\n",
      "aaaaaa ****\n",
      "\n",
      "aaaaaaa ***\n",
      "\n",
      "aaaaaaaa **\n",
      "\n",
      "aaaaaaaaa *\n",
      "\n"
     ]
    }
   ],
   "source": [
    "for i in range(10):\n",
    "    print('a'*i, '*'*(10-i))\n",
    "    print()"
   ]
  },
  {
   "cell_type": "code",
   "execution_count": 70,
   "metadata": {},
   "outputs": [
    {
     "name": "stdout",
     "output_type": "stream",
     "text": [
      "           \n",
      "\n",
      "          *\n",
      "\n",
      "         **\n",
      "\n",
      "        ***\n",
      "\n",
      "       ****\n",
      "\n",
      "      *****\n",
      "\n",
      "     ******\n",
      "\n",
      "    *******\n",
      "\n",
      "   ********\n",
      "\n",
      "  *********\n",
      "\n"
     ]
    }
   ],
   "source": [
    "for i in range(10):\n",
    "    print(' '*(10-i), '*'*(i))\n",
    "    print()"
   ]
  },
  {
   "cell_type": "code",
   "execution_count": 71,
   "metadata": {},
   "outputs": [
    {
     "name": "stdout",
     "output_type": "stream",
     "text": [
      "8\n"
     ]
    }
   ],
   "source": [
    "cont = 0\n",
    "\n",
    "for letter in 'computational thinking':\n",
    "    if letter in 'aeiou':\n",
    "        cont += 1\n",
    "print(cont)"
   ]
  },
  {
   "cell_type": "code",
   "execution_count": 72,
   "metadata": {},
   "outputs": [
    {
     "name": "stdout",
     "output_type": "stream",
     "text": [
      "**********\n",
      "*********\n",
      "********\n",
      "*******\n",
      "******\n",
      "*****\n",
      "****\n",
      "***\n",
      "**\n",
      "*\n"
     ]
    }
   ],
   "source": [
    "for i in range(10):\n",
    "    print('*'*(10-i))"
   ]
  },
  {
   "cell_type": "markdown",
   "metadata": {},
   "source": [
    "##### 아래 별 출력 확인"
   ]
  },
  {
   "cell_type": "code",
   "execution_count": 85,
   "metadata": {
    "scrolled": true
   },
   "outputs": [
    {
     "name": "stdout",
     "output_type": "stream",
     "text": [
      "         *          \n",
      "        ***         \n",
      "       *****        \n",
      "      *******       \n",
      "     *********      \n"
     ]
    }
   ],
   "source": [
    "for i in range(1, 10, 2):\n",
    "    print('{:^20}'.format('*'*i))\n",
    "    \n",
    "# 앞에 띄어쓰기 주고 별출력?"
   ]
  },
  {
   "cell_type": "code",
   "execution_count": 86,
   "metadata": {},
   "outputs": [],
   "source": [
    "score = {4:90, 2:80, 1:95, 5:88, 3:92}\n"
   ]
  },
  {
   "cell_type": "code",
   "execution_count": 87,
   "metadata": {},
   "outputs": [
    {
     "name": "stdout",
     "output_type": "stream",
     "text": [
      "4\n",
      "2\n",
      "1\n",
      "5\n",
      "3\n"
     ]
    }
   ],
   "source": [
    "for x in score:\n",
    "    print(x)"
   ]
  },
  {
   "cell_type": "code",
   "execution_count": null,
   "metadata": {},
   "outputs": [],
   "source": []
  },
  {
   "cell_type": "code",
   "execution_count": null,
   "metadata": {},
   "outputs": [],
   "source": []
  },
  {
   "cell_type": "code",
   "execution_count": null,
   "metadata": {},
   "outputs": [],
   "source": []
  },
  {
   "cell_type": "code",
   "execution_count": null,
   "metadata": {},
   "outputs": [],
   "source": []
  },
  {
   "cell_type": "code",
   "execution_count": null,
   "metadata": {},
   "outputs": [],
   "source": []
  },
  {
   "cell_type": "code",
   "execution_count": null,
   "metadata": {},
   "outputs": [],
   "source": []
  },
  {
   "cell_type": "code",
   "execution_count": null,
   "metadata": {},
   "outputs": [],
   "source": []
  },
  {
   "cell_type": "code",
   "execution_count": null,
   "metadata": {},
   "outputs": [],
   "source": []
  },
  {
   "cell_type": "code",
   "execution_count": null,
   "metadata": {},
   "outputs": [],
   "source": []
  }
 ],
 "metadata": {
  "kernelspec": {
   "display_name": "Python 3",
   "language": "python",
   "name": "python3"
  },
  "language_info": {
   "codemirror_mode": {
    "name": "ipython",
    "version": 3
   },
   "file_extension": ".py",
   "mimetype": "text/x-python",
   "name": "python",
   "nbconvert_exporter": "python",
   "pygments_lexer": "ipython3",
   "version": "3.6.8"
  }
 },
 "nbformat": 4,
 "nbformat_minor": 2
}
