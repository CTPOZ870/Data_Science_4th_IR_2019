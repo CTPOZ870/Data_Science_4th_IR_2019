{
 "cells": [
  {
   "cell_type": "markdown",
   "metadata": {},
   "source": [
    "## Function_Sample_Code"
   ]
  },
  {
   "cell_type": "code",
   "execution_count": 2,
   "metadata": {},
   "outputs": [
    {
     "data": {
      "text/plain": [
       "111"
      ]
     },
     "execution_count": 2,
     "metadata": {},
     "output_type": "execute_result"
    }
   ],
   "source": [
    "def abs(number):\n",
    "    if number < 0:\n",
    "        number =- number\n",
    "    return number\n",
    "\n",
    "abs(-111)"
   ]
  },
  {
   "cell_type": "code",
   "execution_count": 3,
   "metadata": {},
   "outputs": [
    {
     "data": {
      "text/plain": [
       "28.26"
      ]
     },
     "execution_count": 3,
     "metadata": {},
     "output_type": "execute_result"
    }
   ],
   "source": [
    "# 원 넓이 파이 r 제곱\n",
    "def area(radius):\n",
    "    circle_area = 3.14 * pow(radius, 2)\n",
    "    return circle_area\n",
    "\n",
    "area(3)"
   ]
  },
  {
   "cell_type": "code",
   "execution_count": 5,
   "metadata": {},
   "outputs": [
    {
     "name": "stdout",
     "output_type": "stream",
     "text": [
      "--------------------\n",
      "Name : 성호\n",
      "E-mail : aaa@abcd.com\n",
      "Office Address : 서울\n",
      "--------------------\n"
     ]
    }
   ],
   "source": [
    "def print_businesscard(name, email, addr):\n",
    "    print(\"-\"*20)\n",
    "    print(\"Name : %s\" %name)\n",
    "    print(\"E-mail : %s\" %email)\n",
    "    print('Office Address : %s' %addr)\n",
    "    print(\"-\"*20)\n",
    "    \n",
    "print_businesscard('성호', 'aaa@abcd.com', '서울')"
   ]
  },
  {
   "cell_type": "code",
   "execution_count": 10,
   "metadata": {},
   "outputs": [
    {
     "data": {
      "text/plain": [
       "5"
      ]
     },
     "execution_count": 10,
     "metadata": {},
     "output_type": "execute_result"
    }
   ],
   "source": [
    "def sum_mul(choice, *args):\n",
    "    if choice == 'sum':\n",
    "        return sum(args)\n",
    "    elif choice == 'mul':\n",
    "        result = 1\n",
    "        for i in args:\n",
    "            result *= i\n",
    "        return result\n",
    "    \n",
    "sum_mul('sum', 2,3)"
   ]
  },
  {
   "cell_type": "code",
   "execution_count": 11,
   "metadata": {},
   "outputs": [
    {
     "data": {
      "text/plain": [
       "6"
      ]
     },
     "execution_count": 11,
     "metadata": {},
     "output_type": "execute_result"
    }
   ],
   "source": [
    "def sum_mul(choice, *args):\n",
    "    if choice == 'sum':\n",
    "        return sum(args)\n",
    "    elif choice == 'mul':\n",
    "        result = 1\n",
    "        for i in args:\n",
    "            result *= i\n",
    "        return result\n",
    "    \n",
    "sum_mul('mul', 2,3)"
   ]
  },
  {
   "cell_type": "code",
   "execution_count": 13,
   "metadata": {},
   "outputs": [
    {
     "name": "stdout",
     "output_type": "stream",
     "text": [
      "5\n",
      "파이썬공부\n"
     ]
    }
   ],
   "source": [
    "def add_number(n1, n2):\n",
    "    ret = n1+n2\n",
    "    return ret\n",
    "\n",
    "def add_txt(t1, t2):\n",
    "    print(t1+t2)\n",
    "\n",
    "ans = add_number(2, 3)\n",
    "print(ans)\n",
    "\n",
    "text1 = '파이썬'\n",
    "text2 = '공부'\n",
    "add_txt(text1, text2)"
   ]
  },
  {
   "cell_type": "markdown",
   "metadata": {},
   "source": [
    "##### 아래 간단히 해석 확인"
   ]
  },
  {
   "cell_type": "code",
   "execution_count": 14,
   "metadata": {},
   "outputs": [
    {
     "name": "stdout",
     "output_type": "stream",
     "text": [
      "파이썬 : 파이썬\n",
      "파이썬을 : 공부합시다\n",
      "()\n",
      "(1, 2, 3, 4)\n",
      "{}\n",
      "{'depth': 50, 'color': 'blue'}\n"
     ]
    }
   ],
   "source": [
    "def add_txt(t1, t2='파이썬'):\n",
    "    print(t1+' : ' + t2)\n",
    "\n",
    "add_txt('파이썬')\n",
    "add_txt(t1='파이썬을', t2='공부합시다')\n",
    "\n",
    "def func1(*args):\n",
    "    print(args)\n",
    "    \n",
    "def func2(width, height, **kwargs):\n",
    "    print(kwargs)\n",
    "    \n",
    "func1()\n",
    "func1(1, 2, 3, 4)\n",
    "func2(10, 20)\n",
    "func2(10, 20, depth=50, color='blue')"
   ]
  },
  {
   "cell_type": "code",
   "execution_count": 16,
   "metadata": {},
   "outputs": [
    {
     "name": "stdout",
     "output_type": "stream",
     "text": [
      "good morning Everyone\n",
      "good morning Mr. Park\n"
     ]
    }
   ],
   "source": [
    "# 가변 확인\n",
    "def report(message, who='Everyone'):\n",
    "    print(message, who)\n",
    "    \n",
    "report('good morning')\n",
    "report('good morning', 'Mr. Park')"
   ]
  },
  {
   "cell_type": "code",
   "execution_count": null,
   "metadata": {},
   "outputs": [],
   "source": []
  },
  {
   "cell_type": "code",
   "execution_count": null,
   "metadata": {},
   "outputs": [],
   "source": []
  },
  {
   "cell_type": "code",
   "execution_count": null,
   "metadata": {},
   "outputs": [],
   "source": []
  },
  {
   "cell_type": "code",
   "execution_count": null,
   "metadata": {},
   "outputs": [],
   "source": []
  }
 ],
 "metadata": {
  "kernelspec": {
   "display_name": "Python 3",
   "language": "python",
   "name": "python3"
  },
  "language_info": {
   "codemirror_mode": {
    "name": "ipython",
    "version": 3
   },
   "file_extension": ".py",
   "mimetype": "text/x-python",
   "name": "python",
   "nbconvert_exporter": "python",
   "pygments_lexer": "ipython3",
   "version": "3.6.8"
  }
 },
 "nbformat": 4,
 "nbformat_minor": 2
}
